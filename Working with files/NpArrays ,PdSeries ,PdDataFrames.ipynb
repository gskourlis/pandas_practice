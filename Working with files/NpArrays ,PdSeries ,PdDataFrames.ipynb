{
 "cells": [
  {
   "cell_type": "markdown",
   "id": "a4da091d-f4f5-4825-8060-18882f7b5997",
   "metadata": {},
   "source": [
    "### Numpy Arrays and Pandas Series"
   ]
  },
  {
   "cell_type": "code",
   "execution_count": 2,
   "id": "47c6b815-0ce7-439a-8b0a-53b069ebe913",
   "metadata": {},
   "outputs": [],
   "source": [
    "import numpy as np\n",
    "import pandas as pd"
   ]
  },
  {
   "cell_type": "code",
   "execution_count": 3,
   "id": "06668f71-629f-4de1-acdb-ad7f70e24378",
   "metadata": {},
   "outputs": [],
   "source": [
    "my_list = [10,25,35]"
   ]
  },
  {
   "cell_type": "code",
   "execution_count": 4,
   "id": "f133f945-c121-40a1-a218-eea8efb1f59e",
   "metadata": {},
   "outputs": [
    {
     "name": "stdout",
     "output_type": "stream",
     "text": [
      "[10 25 35]\n"
     ]
    }
   ],
   "source": [
    "x= np.array(my_list)\n",
    "\n",
    "print(x)"
   ]
  },
  {
   "cell_type": "code",
   "execution_count": 5,
   "id": "d7975d86-2be1-4866-8cc6-c6385b4ead6f",
   "metadata": {
    "scrolled": true
   },
   "outputs": [
    {
     "data": {
      "text/plain": [
       "array([10, 25, 35])"
      ]
     },
     "execution_count": 5,
     "metadata": {},
     "output_type": "execute_result"
    }
   ],
   "source": [
    "x"
   ]
  },
  {
   "cell_type": "code",
   "execution_count": 6,
   "id": "8ef34dac-8f10-4c2a-80bb-d68d747c7eba",
   "metadata": {},
   "outputs": [
    {
     "data": {
      "text/plain": [
       "numpy.ndarray"
      ]
     },
     "execution_count": 6,
     "metadata": {},
     "output_type": "execute_result"
    }
   ],
   "source": [
    "type(x)"
   ]
  },
  {
   "cell_type": "code",
   "execution_count": 7,
   "id": "d7f5474f-dc7c-4aa4-a3e2-11748f51f1a8",
   "metadata": {},
   "outputs": [
    {
     "data": {
      "text/plain": [
       "0    10\n",
       "1    25\n",
       "2    35\n",
       "dtype: int64"
      ]
     },
     "execution_count": 7,
     "metadata": {},
     "output_type": "execute_result"
    }
   ],
   "source": [
    "pd.Series(my_list)"
   ]
  },
  {
   "cell_type": "code",
   "execution_count": 8,
   "id": "a8524b5e-cb35-4a6a-ba18-a533938345b4",
   "metadata": {},
   "outputs": [],
   "source": [
    "y= pd.Series(my_list)"
   ]
  },
  {
   "cell_type": "code",
   "execution_count": 9,
   "id": "118facef-5a0e-4ae7-a354-c0b6f6348125",
   "metadata": {},
   "outputs": [
    {
     "data": {
      "text/plain": [
       "pandas.core.series.Series"
      ]
     },
     "execution_count": 9,
     "metadata": {},
     "output_type": "execute_result"
    }
   ],
   "source": [
    "type(y)"
   ]
  },
  {
   "cell_type": "code",
   "execution_count": 10,
   "id": "f35349f8-c1e1-4565-9593-e6ce8eaeb031",
   "metadata": {},
   "outputs": [],
   "source": [
    "index_values = ['Best','Second Best','Third Best']\n",
    "my_list = [10,25,35]\n",
    "\n",
    "\n",
    "one = pd.Series(data = my_list,index=index_values)"
   ]
  },
  {
   "cell_type": "code",
   "execution_count": 11,
   "id": "b3e64829-916c-413b-94d2-d73be91676c0",
   "metadata": {},
   "outputs": [
    {
     "data": {
      "text/plain": [
       "Best           10\n",
       "Second Best    25\n",
       "Third Best     35\n",
       "dtype: int64"
      ]
     },
     "execution_count": 11,
     "metadata": {},
     "output_type": "execute_result"
    }
   ],
   "source": [
    "one"
   ]
  },
  {
   "cell_type": "code",
   "execution_count": 12,
   "id": "1777f234-44de-424c-a2cb-8ed023fe6f0a",
   "metadata": {},
   "outputs": [],
   "source": [
    "index_values2 = ['Best','Second Best','Fourth Best']\n",
    "my_list2 = [10,25,40]\n",
    "\n",
    "\n",
    "two = pd.Series(data = my_list2,index=index_values2)"
   ]
  },
  {
   "cell_type": "code",
   "execution_count": 13,
   "id": "265972d7-c6ab-4dc2-ba1c-151e82f98c5f",
   "metadata": {},
   "outputs": [
    {
     "data": {
      "text/plain": [
       "Best           10\n",
       "Second Best    25\n",
       "Fourth Best    40\n",
       "dtype: int64"
      ]
     },
     "execution_count": 13,
     "metadata": {},
     "output_type": "execute_result"
    }
   ],
   "source": [
    "two"
   ]
  },
  {
   "cell_type": "code",
   "execution_count": 14,
   "id": "58f0684a-8553-4cda-aec0-b5d5fda08067",
   "metadata": {},
   "outputs": [
    {
     "data": {
      "text/plain": [
       "Best           20.0\n",
       "Fourth Best     NaN\n",
       "Second Best    50.0\n",
       "Third Best      NaN\n",
       "dtype: float64"
      ]
     },
     "execution_count": 14,
     "metadata": {},
     "output_type": "execute_result"
    }
   ],
   "source": [
    "total = one + two\n",
    "total"
   ]
  },
  {
   "cell_type": "code",
   "execution_count": 15,
   "id": "6177aa4e-e589-44cc-a377-0d7eef8bbba6",
   "metadata": {},
   "outputs": [
    {
     "data": {
      "text/plain": [
       "20.0"
      ]
     },
     "execution_count": 15,
     "metadata": {},
     "output_type": "execute_result"
    }
   ],
   "source": [
    "total['Best']"
   ]
  },
  {
   "cell_type": "code",
   "execution_count": 16,
   "id": "691e0bb1-7903-420d-b2fe-a9909989feec",
   "metadata": {},
   "outputs": [
    {
     "name": "stderr",
     "output_type": "stream",
     "text": [
      "/var/folders/74/jqd1f7yx2dj5czlf00b_j9fw0000gn/T/ipykernel_66136/3900337425.py:1: FutureWarning: Series.__getitem__ treating keys as positions is deprecated. In a future version, integer keys will always be treated as labels (consistent with DataFrame behavior). To access a value by position, use `ser.iloc[pos]`\n",
      "  total[0]\n"
     ]
    },
    {
     "data": {
      "text/plain": [
       "20.0"
      ]
     },
     "execution_count": 16,
     "metadata": {},
     "output_type": "execute_result"
    }
   ],
   "source": [
    "total[0]"
   ]
  },
  {
   "cell_type": "markdown",
   "id": "0fda4bd9-74e9-4476-b442-07e4d92bfc43",
   "metadata": {},
   "source": [
    "### Pandas Dataframe"
   ]
  },
  {
   "cell_type": "code",
   "execution_count": 17,
   "id": "7070dbcc-6b89-4baf-b12d-f3809db798e2",
   "metadata": {},
   "outputs": [],
   "source": [
    "dataframe = pd.DataFrame({'Series 1': one, 'Series 2': two})"
   ]
  },
  {
   "cell_type": "code",
   "execution_count": 18,
   "id": "885f48fc-2858-4a16-9579-67a7d0a9984b",
   "metadata": {},
   "outputs": [
    {
     "name": "stdout",
     "output_type": "stream",
     "text": [
      "             Series 1  Series 2\n",
      "Best             10.0      10.0\n",
      "Fourth Best       NaN      40.0\n",
      "Second Best      25.0      25.0\n",
      "Third Best       35.0       NaN\n"
     ]
    }
   ],
   "source": [
    "print(dataframe)"
   ]
  },
  {
   "cell_type": "code",
   "execution_count": 19,
   "id": "00d45de0-9142-4802-a5f9-d6c38104cfed",
   "metadata": {},
   "outputs": [
    {
     "data": {
      "text/html": [
       "<div>\n",
       "<style scoped>\n",
       "    .dataframe tbody tr th:only-of-type {\n",
       "        vertical-align: middle;\n",
       "    }\n",
       "\n",
       "    .dataframe tbody tr th {\n",
       "        vertical-align: top;\n",
       "    }\n",
       "\n",
       "    .dataframe thead th {\n",
       "        text-align: right;\n",
       "    }\n",
       "</style>\n",
       "<table border=\"1\" class=\"dataframe\">\n",
       "  <thead>\n",
       "    <tr style=\"text-align: right;\">\n",
       "      <th></th>\n",
       "      <th>Series 1</th>\n",
       "      <th>Series 2</th>\n",
       "    </tr>\n",
       "  </thead>\n",
       "  <tbody>\n",
       "    <tr>\n",
       "      <th>Best</th>\n",
       "      <td>10.0</td>\n",
       "      <td>10.0</td>\n",
       "    </tr>\n",
       "    <tr>\n",
       "      <th>Fourth Best</th>\n",
       "      <td>NaN</td>\n",
       "      <td>40.0</td>\n",
       "    </tr>\n",
       "    <tr>\n",
       "      <th>Second Best</th>\n",
       "      <td>25.0</td>\n",
       "      <td>25.0</td>\n",
       "    </tr>\n",
       "    <tr>\n",
       "      <th>Third Best</th>\n",
       "      <td>35.0</td>\n",
       "      <td>NaN</td>\n",
       "    </tr>\n",
       "  </tbody>\n",
       "</table>\n",
       "</div>"
      ],
      "text/plain": [
       "             Series 1  Series 2\n",
       "Best             10.0      10.0\n",
       "Fourth Best       NaN      40.0\n",
       "Second Best      25.0      25.0\n",
       "Third Best       35.0       NaN"
      ]
     },
     "execution_count": 19,
     "metadata": {},
     "output_type": "execute_result"
    }
   ],
   "source": [
    "dataframe"
   ]
  },
  {
   "cell_type": "code",
   "execution_count": 22,
   "id": "9fff75ef-6bae-4237-8c17-6dfdbacfd944",
   "metadata": {},
   "outputs": [],
   "source": [
    "ice_cream = [['MCC',1],['Butterscotch',2],['Butter Pecan',3]]"
   ]
  },
  {
   "cell_type": "code",
   "execution_count": 24,
   "id": "e4d73b49-d633-4816-bee0-e67675c13687",
   "metadata": {},
   "outputs": [
    {
     "data": {
      "text/html": [
       "<div>\n",
       "<style scoped>\n",
       "    .dataframe tbody tr th:only-of-type {\n",
       "        vertical-align: middle;\n",
       "    }\n",
       "\n",
       "    .dataframe tbody tr th {\n",
       "        vertical-align: top;\n",
       "    }\n",
       "\n",
       "    .dataframe thead th {\n",
       "        text-align: right;\n",
       "    }\n",
       "</style>\n",
       "<table border=\"1\" class=\"dataframe\">\n",
       "  <thead>\n",
       "    <tr style=\"text-align: right;\">\n",
       "      <th></th>\n",
       "      <th>Flavor</th>\n",
       "      <th>Scoops</th>\n",
       "    </tr>\n",
       "  </thead>\n",
       "  <tbody>\n",
       "    <tr>\n",
       "      <th>Flavor1</th>\n",
       "      <td>MCC</td>\n",
       "      <td>1</td>\n",
       "    </tr>\n",
       "    <tr>\n",
       "      <th>Flavor 2</th>\n",
       "      <td>Butterscotch</td>\n",
       "      <td>2</td>\n",
       "    </tr>\n",
       "    <tr>\n",
       "      <th>Flavor 3</th>\n",
       "      <td>Butter Pecan</td>\n",
       "      <td>3</td>\n",
       "    </tr>\n",
       "  </tbody>\n",
       "</table>\n",
       "</div>"
      ],
      "text/plain": [
       "                Flavor  Scoops\n",
       "Flavor1            MCC       1\n",
       "Flavor 2  Butterscotch       2\n",
       "Flavor 3  Butter Pecan       3"
      ]
     },
     "execution_count": 24,
     "metadata": {},
     "output_type": "execute_result"
    }
   ],
   "source": [
    "pd.DataFrame(ice_cream, index = ['Flavor1', 'Flavor 2','Flavor 3'],columns = ('Flavor','Scoops'))"
   ]
  },
  {
   "cell_type": "code",
   "execution_count": null,
   "id": "88aea60a-a48a-48cc-b118-72f57cd49508",
   "metadata": {},
   "outputs": [],
   "source": []
  }
 ],
 "metadata": {
  "kernelspec": {
   "display_name": "Python 3 (ipykernel)",
   "language": "python",
   "name": "python3"
  },
  "language_info": {
   "codemirror_mode": {
    "name": "ipython",
    "version": 3
   },
   "file_extension": ".py",
   "mimetype": "text/x-python",
   "name": "python",
   "nbconvert_exporter": "python",
   "pygments_lexer": "ipython3",
   "version": "3.11.7"
  }
 },
 "nbformat": 4,
 "nbformat_minor": 5
}
